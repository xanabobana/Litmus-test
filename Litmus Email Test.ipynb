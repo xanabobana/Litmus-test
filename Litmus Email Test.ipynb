{
    "nbformat_minor": 1, 
    "cells": [
        {
            "execution_count": 27, 
            "cell_type": "code", 
            "metadata": {}, 
            "outputs": [], 
            "source": "#import necessary packages\nimport requests\nimport pandas as pd\nimport time\n\ndef GetState(State=\"\"):\n    get_response = requests.get(url, auth=(api_key, api_password))\n    get_json = get_response.json() \n    State=get_json['State']\n    return State"
        }, 
        {
            "execution_count": 28, 
            "cell_type": "code", 
            "metadata": {}, 
            "outputs": [], 
            "source": "# The code was removed by Watson Studio for sharing."
        }, 
        {
            "execution_count": 29, 
            "cell_type": "code", 
            "metadata": {}, 
            "outputs": [], 
            "source": "# create an email preview for all Testing Applications\nheaders = {\n    'Content-type': 'application/json',\n}\n\n#data = '{}'\ndata = '{\"TestingApplications\": [\\n    { \"ApplicationName\": \"OL2010\" }\\n  ]\\n}'\npost_response = requests.post('https://previews-api.litmus.com/api/v1/EmailTests', headers=headers, data=data, auth=(api_key, api_password))"
        }, 
        {
            "execution_count": 30, 
            "cell_type": "code", 
            "metadata": {}, 
            "outputs": [
                {
                    "output_type": "stream", 
                    "name": "stdout", 
                    "text": "Send an email to ogivcg3.api@emailtests.com ID reference 48650919\n"
                }
            ], 
            "source": "#parse response\npost_json = post_response.json()\n\n#retrieve InboxGuid and Id\nInboxGuid=post_json['InboxGuid']\nId=post_json['Id']\n\nprint('Send an email to ',InboxGuid,'@emailtests.com ID reference ',Id,sep='')"
        }, 
        {
            "execution_count": 31, 
            "cell_type": "code", 
            "metadata": {}, 
            "outputs": [
                {
                    "ename": "SyntaxError", 
                    "evalue": "invalid syntax (<ipython-input-31-beef8d4048ea>, line 13)", 
                    "traceback": [
                        "\u001b[0;36m  File \u001b[0;32m\"<ipython-input-31-beef8d4048ea>\"\u001b[0;36m, line \u001b[0;32m13\u001b[0m\n\u001b[0;31m    if totaltime>1200 #if state is still not complete after 20 mins, break out of this loop\u001b[0m\n\u001b[0m                                                                                           ^\u001b[0m\n\u001b[0;31mSyntaxError\u001b[0m\u001b[0;31m:\u001b[0m invalid syntax\n"
                    ], 
                    "output_type": "error"
                }
            ], 
            "source": "#make URL to check state\nurl='https://previews-api.litmus.com/api/v1/EmailTests/'+str(Id)\n\nState=\"\"\nState=GetState(State)\ntotaltime=0\n\n#keep checking state until it is complete or 20 minutes go by\nwhile State!='complete':\n    time.sleep(60)\n    GetState(State)\n    totaltime=totaltime+60\n    if totaltime>1200 #if state is still not complete after 20 mins, break out of this loop\n        if State=='waiting'\n            print(\"Email has still not been received.  Please try resending.\")\n            break\n        else:\n            print('Processing is not complete after 20 minutes. Program will return images completed at this time, but try again later for complete results.')\n            break\n"
        }, 
        {
            "execution_count": null, 
            "cell_type": "code", 
            "metadata": {}, 
            "outputs": [], 
            "source": "#get a list of the completed image URLs for Mobile Devices\nimages=[]\n\nfor d in j['TestingApplications']:\n    if d['PlatformName']=='Mobile devices' and d['State']=='complete':\n        if d['SupportsContentBlocking']==True:    \n            images.append(d['WindowImageNoContentBlocking'])\n        else:\n            images.append(d['WindowImage'])\n\nimages"
        }, 
        {
            "execution_count": null, 
            "cell_type": "code", 
            "metadata": {}, 
            "outputs": [], 
            "source": ""
        }
    ], 
    "metadata": {
        "kernelspec": {
            "display_name": "Python 3.6", 
            "name": "python3", 
            "language": "python"
        }, 
        "language_info": {
            "mimetype": "text/x-python", 
            "nbconvert_exporter": "python", 
            "version": "3.6.8", 
            "name": "python", 
            "file_extension": ".py", 
            "pygments_lexer": "ipython3", 
            "codemirror_mode": {
                "version": 3, 
                "name": "ipython"
            }
        }
    }, 
    "nbformat": 4
}