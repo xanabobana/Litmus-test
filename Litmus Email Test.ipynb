{
    "nbformat_minor": 1, 
    "cells": [
        {
            "execution_count": 27, 
            "cell_type": "code", 
            "metadata": {}, 
            "outputs": [], 
            "source": "#import necessary packages\nimport requests\nimport pandas as pd\nimport time\n\ndef GetState(State=\"\"):\n    get_response = requests.get(url, auth=(api_key, api_password))\n    get_json = get_response.json() \n    State=get_json['State']\n    return State"
        }, 
        {
            "execution_count": 28, 
            "cell_type": "code", 
            "metadata": {}, 
            "outputs": [], 
            "source": "# The code was removed by Watson Studio for sharing."
        }, 
        {
            "execution_count": 29, 
            "cell_type": "code", 
            "metadata": {}, 
            "outputs": [], 
            "source": "# create an email preview for all Testing Applications\nheaders = {\n    'Content-type': 'application/json',\n}\n\n#data = '{}'\ndata = '{\"TestingApplications\": [\\n    { \"ApplicationName\": \"OL2010\" }\\n  ]\\n}'\npost_response = requests.post('https://previews-api.litmus.com/api/v1/EmailTests', headers=headers, data=data, auth=(api_key, api_password))"
        }, 
        {
            "execution_count": 30, 
            "cell_type": "code", 
            "metadata": {}, 
            "outputs": [
                {
                    "output_type": "stream", 
                    "name": "stdout", 
                    "text": "Send an email to ogivcg3.api@emailtests.com ID reference 48650919\n"
                }
            ], 
            "source": "#parse response\npost_json = post_response.json()\n\n#retrieve InboxGuid and Id\nInboxGuid=post_json['InboxGuid']\nId=post_json['Id']\n\nprint('Send an email to ',InboxGuid,'@emailtests.com ID reference ',Id,sep='')"
        }, 
        {
            "execution_count": 34, 
            "cell_type": "code", 
            "metadata": {}, 
            "outputs": [
                {
                    "execution_count": 34, 
                    "metadata": {}, 
                    "data": {
                        "text/plain": "'complete'"
                    }, 
                    "output_type": "execute_result"
                }
            ], 
            "source": "#make URL to check state\nurl='https://previews-api.litmus.com/api/v1/EmailTests/'+str(Id)\n\nState=\"\"\nState=GetState(State)\ntotaltime=0\n\n#keep checking state until it is complete or 20 minutes go by\nwhile State!='complete':\n    time.sleep(60)\n    GetState(State)\n    totaltime=totaltime+60\n    if totaltime>1200:  #if state is still not complete after 20 mins, break out of this loop\n        if State=='waiting':\n            print(\"Email has still not been received.  Please try resending.\")\n            break\n        else:\n            print('Processing is not complete after 20 minutes. Program will return images completed at this time, but try again later for complete results.')\n            break\nState"
        }, 
        {
            "execution_count": 35, 
            "cell_type": "code", 
            "metadata": {}, 
            "outputs": [
                {
                    "execution_count": 35, 
                    "metadata": {}, 
                    "data": {
                        "text/plain": "['android4.capture.litmuscdn.com/769f37de-3016-4170-9109-3b0b33bda216/results/android4-vertical-allowed-1366.png',\n 'androidgmailapp.capture.litmuscdn.com/769f37de-3016-4170-9109-3b0b33bda216/results/androidgmailapp-vertical-allowed-1366.png',\n 'ipad.capture.litmuscdn.com/769f37de-3016-4170-9109-3b0b33bda216/results/ipad-vertical-allowed-1366.png',\n 'ipadmini.capture.litmuscdn.com/769f37de-3016-4170-9109-3b0b33bda216/results/ipadmini-vertical-allowed-1366.png',\n 'iphone6.capture.litmuscdn.com/c42ea4c7-6182-4fa9-a555-8126c78330c1/results/iphone6-vertical-allowed-1366.png',\n 'iphone6plus.capture.litmuscdn.com/c42ea4c7-6182-4fa9-a555-8126c78330c1/results/iphone6plus-vertical-allowed-1366.png',\n 'iphone6s.capture.litmuscdn.com/769f37de-3016-4170-9109-3b0b33bda216/results/iphone6s-vertical-allowed-1366.png',\n 'iphone6splus.capture.litmuscdn.com/769f37de-3016-4170-9109-3b0b33bda216/results/iphone6splus-vertical-allowed-1366.png',\n 'ipadpro13in.capture.litmuscdn.com/c42ea4c7-6182-4fa9-a555-8126c78330c1/results/ipadpro13in-vertical-allowed-1366.png',\n 'androidgmailimap.capture.litmuscdn.com/769f37de-3016-4170-9109-3b0b33bda216/results/androidgmailimap-vertical-allowed-1366.png',\n 'android5.capture.litmuscdn.com/769f37de-3016-4170-9109-3b0b33bda216/results/android5-vertical-allowed-1366.png',\n 'android6.capture.litmuscdn.com/769f37de-3016-4170-9109-3b0b33bda216/results/android6-vertical-allowed-1366.png',\n 'iphone7.capture.litmuscdn.com/769f37de-3016-4170-9109-3b0b33bda216/results/iphone7-vertical-allowed-1366.png',\n 'iphone7plus.capture.litmuscdn.com/769f37de-3016-4170-9109-3b0b33bda216/results/iphone7plus-vertical-allowed-1366.png',\n 'gmailios.capture.litmuscdn.com/769f37de-3016-4170-9109-3b0b33bda216/results/gmailios-vertical-allowed-1366.png',\n 'iphonebeta.capture.litmuscdn.com/769f37de-3016-4170-9109-3b0b33bda216/results/iphonebeta-vertical-allowed-1366.png',\n 'iphone8.capture.litmuscdn.com/769f37de-3016-4170-9109-3b0b33bda216/results/iphone8-vertical-allowed-1366.png',\n 'iphone8plus.capture.litmuscdn.com/769f37de-3016-4170-9109-3b0b33bda216/results/iphone8plus-vertical-allowed-1366.png',\n 'iphonex.capture.litmuscdn.com/c42ea4c7-6182-4fa9-a555-8126c78330c1/results/iphonex-vertical-allowed-1366.png',\n 'androidsamsung6.capture.litmuscdn.com/769f37de-3016-4170-9109-3b0b33bda216/results/androidsamsung6-vertical-allowed-1366.png',\n 'androidoutlook.capture.litmuscdn.com/c42ea4c7-6182-4fa9-a555-8126c78330c1/results/androidoutlook-vertical-allowed-1366.png',\n 'iphonese.capture.litmuscdn.com/c42ea4c7-6182-4fa9-a555-8126c78330c1/results/iphonese-vertical-allowed-1366.png',\n 'ipadpro10p5in.capture.litmuscdn.com/769f37de-3016-4170-9109-3b0b33bda216/results/ipadpro10p5in-vertical-allowed-1366.png',\n 'outlookios.capture.litmuscdn.com/c42ea4c7-6182-4fa9-a555-8126c78330c1/results/outlookios-vertical-allowed-1366.png',\n 'android71gmailapp.capture.litmuscdn.com/769f37de-3016-4170-9109-3b0b33bda216/results/android71gmailapp-vertical-allowed-1366.png',\n 'android8gmailapp.capture.litmuscdn.com/c42ea4c7-6182-4fa9-a555-8126c78330c1/results/android8gmailapp-vertical-allowed-1366.png',\n 'androidsamsung7.capture.litmuscdn.com/c42ea4c7-6182-4fa9-a555-8126c78330c1/results/androidsamsung7-vertical-allowed-1366.png',\n 'iphonexs.capture.litmuscdn.com/769f37de-3016-4170-9109-3b0b33bda216/results/iphonexs-vertical-allowed-1366.png',\n 'iphonexsmax.capture.litmuscdn.com/769f37de-3016-4170-9109-3b0b33bda216/results/iphonexsmax-vertical-allowed-1366.png',\n 'iphonexr.capture.litmuscdn.com/c42ea4c7-6182-4fa9-a555-8126c78330c1/results/iphonexr-vertical-allowed-1366.png']"
                    }, 
                    "output_type": "execute_result"
                }
            ], 
            "source": "#get a list of the completed image URLs for Mobile Devices\nimages=[]\n\nfor d in j['TestingApplications']:\n    if d['PlatformName']=='Mobile devices' and d['State']=='complete':\n        if d['SupportsContentBlocking']==True:    \n            images.append(d['WindowImageNoContentBlocking'])\n        else:\n            images.append(d['WindowImage'])\n\nimages"
        }, 
        {
            "execution_count": null, 
            "cell_type": "code", 
            "metadata": {}, 
            "outputs": [], 
            "source": ""
        }
    ], 
    "metadata": {
        "kernelspec": {
            "display_name": "Python 3.6", 
            "name": "python3", 
            "language": "python"
        }, 
        "language_info": {
            "mimetype": "text/x-python", 
            "nbconvert_exporter": "python", 
            "version": "3.6.8", 
            "name": "python", 
            "file_extension": ".py", 
            "pygments_lexer": "ipython3", 
            "codemirror_mode": {
                "version": 3, 
                "name": "ipython"
            }
        }
    }, 
    "nbformat": 4
}